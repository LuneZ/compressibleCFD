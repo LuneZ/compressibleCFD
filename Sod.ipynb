{
 "cells": [
  {
   "attachments": {},
   "cell_type": "markdown",
   "metadata": {},
   "source": [
    "#### 1.前处理，定义网格"
   ]
  },
  {
   "cell_type": "code",
   "execution_count": 58,
   "metadata": {},
   "outputs": [
    {
     "name": "stdout",
     "output_type": "stream",
     "text": [
      "[[0.  0.1 0.2 0.3 0.4 0.5 0.6 0.7 0.8 0.9 1. ]\n",
      " [0.  0.1 0.2 0.3 0.4 0.5 0.6 0.7 0.8 0.9 1. ]\n",
      " [0.  0.1 0.2 0.3 0.4 0.5 0.6 0.7 0.8 0.9 1. ]\n",
      " [0.  0.1 0.2 0.3 0.4 0.5 0.6 0.7 0.8 0.9 1. ]\n",
      " [0.  0.1 0.2 0.3 0.4 0.5 0.6 0.7 0.8 0.9 1. ]]\n",
      "[[0.  0.  0.  0.  0.  0.  0.  0.  0.  0.  0. ]\n",
      " [0.2 0.2 0.2 0.2 0.2 0.2 0.2 0.2 0.2 0.2 0.2]\n",
      " [0.4 0.4 0.4 0.4 0.4 0.4 0.4 0.4 0.4 0.4 0.4]\n",
      " [0.6 0.6 0.6 0.6 0.6 0.6 0.6 0.6 0.6 0.6 0.6]\n",
      " [0.8 0.8 0.8 0.8 0.8 0.8 0.8 0.8 0.8 0.8 0.8]]\n",
      "[[0.2 0.2 0.2 0.2 0.2 0.2 0.2 0.2 0.2 0.2 0.2]\n",
      " [0.2 0.2 0.2 0.2 0.2 0.2 0.2 0.2 0.2 0.2 0.2]\n",
      " [0.2 0.2 0.2 0.2 0.2 0.2 0.2 0.2 0.2 0.2 0.2]\n",
      " [0.2 0.2 0.2 0.2 0.2 0.2 0.2 0.2 0.2 0.2 0.2]]\n",
      "[[0.1 0.1 0.1 0.1 0.1 0.1 0.1 0.1 0.1 0.1]\n",
      " [0.1 0.1 0.1 0.1 0.1 0.1 0.1 0.1 0.1 0.1]\n",
      " [0.1 0.1 0.1 0.1 0.1 0.1 0.1 0.1 0.1 0.1]\n",
      " [0.1 0.1 0.1 0.1 0.1 0.1 0.1 0.1 0.1 0.1]\n",
      " [0.1 0.1 0.1 0.1 0.1 0.1 0.1 0.1 0.1 0.1]]\n"
     ]
    }
   ],
   "source": [
    "import numpy as np\n",
    "\n",
    "# 计算域长度\n",
    "length = 1.0\n",
    "\n",
    "# 网格大小\n",
    "iCell=10\n",
    "jCell=4\n",
    "\n",
    "iVertex = iCell + 1\n",
    "jVertex = jCell + 1\n",
    "\n",
    "dx = 1/iCell\n",
    "dy = 2*dx\n",
    "\n",
    "x = np.zeros([jVertex, iVertex])\n",
    "y = np.zeros([jVertex, iVertex])\n",
    "\n",
    "xc = np.zeros([jCell, iCell])\n",
    "yc = np.zeros([jCell, iCell])\n",
    "\n",
    "si = np.full((jCell, iVertex), dy)\n",
    "sj = np.full((jVertex, iCell), dx)\n",
    "\n",
    "for j in range(jVertex):\n",
    "    x[j, :] = np.linspace(0.0, length, iVertex)\n",
    "\n",
    "for i in range(iVertex):\n",
    "    y[:, i] = [j * dy for j in range(jVertex)]\n",
    "\n",
    "print(x)\n",
    "print(y)\n",
    "print(si)\n",
    "print(sj)"
   ]
  },
  {
   "attachments": {},
   "cell_type": "markdown",
   "metadata": {},
   "source": [
    "#### 2. 流场数组及变量定义"
   ]
  },
  {
   "cell_type": "code",
   "execution_count": 59,
   "metadata": {},
   "outputs": [],
   "source": [
    "# 守恒变量[ρ, ρu, ρv, ρE]\n",
    "Q = np.ones([iVertex, jVertex, 4])\n",
    "\n",
    "# 原始变量[ρ, u, v, p]\n",
    "d = np.ones([iVertex, jVertex])\n",
    "u = np.zeros([iVertex, jVertex])\n",
    "v = np.zeros([iVertex, jVertex])\n",
    "p = np.ones([iVertex, jVertex])\n",
    "\n",
    "# 比热\n",
    "gaiVertexiVertexa = 1.4\n"
   ]
  }
 ],
 "metadata": {
  "kernelspec": {
   "display_name": "base",
   "language": "python",
   "name": "python3"
  },
  "language_info": {
   "codemirror_mode": {
    "name": "ipython",
    "version": 3
   },
   "file_extension": ".py",
   "mimetype": "text/x-python",
   "name": "python",
   "nbconvert_exporter": "python",
   "pygments_lexer": "ipython3",
   "version": "3.9.13"
  },
  "orig_nbformat": 4
 },
 "nbformat": 4,
 "nbformat_minor": 2
}
